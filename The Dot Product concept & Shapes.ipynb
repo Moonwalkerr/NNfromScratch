{
 "cells": [
  {
   "cell_type": "markdown",
   "metadata": {},
   "source": [
    "# Now we are going to apply actual code for Neurons"
   ]
  },
  {
   "cell_type": "code",
   "execution_count": 13,
   "metadata": {},
   "outputs": [
    {
     "name": "stdout",
     "output_type": "stream",
     "text": [
      "The output fo the current layer is : [8.26, 5.100000000000002, 32.120000000000005]\n"
     ]
    }
   ],
   "source": [
    "  \n",
    "inputs=[11.8,-2.6,3.2, -5.0]  \n",
    "\n",
    "weights = [[0.3,2,0.6, -1.2],[0.1,-2,3.6, 2.6],[0.7,0.1,1.6, -3.2]]\n",
    "biases=[2,0.2 ,3]\n",
    "\n",
    "\n",
    "# dynamic way of finding output of a layer -- iteration\n",
    "layer_outputs=[]    # output of current layer\n",
    "for neuron_weights, neuron_bias in zip(weights,biases):\n",
    "    neuron_output=0\n",
    "    for n_input,weight in zip(inputs,neuron_weights):\n",
    "        neuron_output +=n_input*weight\n",
    "    neuron_output += neuron_bias\n",
    "    layer_outputs.append(neuron_output)\n",
    "print(\"The output fo the current layer is :\", layer_outputs)"
   ]
  },
  {
   "cell_type": "markdown",
   "metadata": {},
   "source": [
    "# Concept of shapes . . . !\n",
    "## Understanding the shapes is first step of understanding the concept of Neural Networks and their vector values.\n",
    "## Lots of deep learning issues prevail due to misconfigurations in shapes' inputs\n"
   ]
  },
  {
   "cell_type": "markdown",
   "metadata": {},
   "source": [
    "# List:-\n",
    "\n",
    "## L = [ 1, 2 , 3, 4]\n",
    "\n",
    "### This is a 1 Dimentional (1-D) Vector / List / Array \n",
    "### There are 4 elements in the List. So  Shape = (4,)"
   ]
  },
  {
   "cell_type": "markdown",
   "metadata": {},
   "source": [
    "## Now lets consider a List of List \n",
    "\n",
    "## lol = [[1, 2 ,3 , 4 ], [3, 4, 1, 6]]\n",
    "\n",
    "## lol = [L,L]\n",
    "\n",
    "## Type:-   2 Dimentional (2-D) Vector / List / Array / Matrix\n",
    "\n",
    "\n",
    "### It contains 2 Lists inside 1 List, and 4 Elements, Shape = (2,4)"
   ]
  },
  {
   "cell_type": "markdown",
   "metadata": {},
   "source": [
    "## A List / Array must have Homologious Feature\n",
    "#### i.e at each dimension or the Lists inside List must have equal number of elements present to calculate shape, otherwise it is not for further operations"
   ]
  },
  {
   "cell_type": "markdown",
   "metadata": {},
   "source": [
    "# Further,  lets consider a List of List  of List !!\n",
    "### lolol = [[[1, 2 ,3 , 4 ], [3, 4, 1, 6]],[[1, 2 ,3 , 4 ], [3, 4, 1, 6]],[[1, 2 ,3 , 4 ], [3, 4, 1, 6]]]\n",
    "\n",
    "### lolol = [lol,lol,lol]\n",
    "\n",
    "## Type:-   3 Dimentional (3-D) Vector / List / Array / Matrix\n",
    "\n",
    "### At 1st dimension, we have 3 Elements (3 lols)\n",
    "### At 2nd dimension, we have 3 Elements (2 Ls)\n",
    "### At 3rd dimension, we have 3 Elements (4 elements)\n"
   ]
  },
  {
   "cell_type": "markdown",
   "metadata": {},
   "source": [
    "## Last Container type in this concept is a TENSOR\n",
    "## A Tensor is an object that can be represented as an Array\n",
    "### ---------------------------------------------------------------------------------------------------------"
   ]
  },
  {
   "cell_type": "markdown",
   "metadata": {},
   "source": [
    "# Similarly we have,\n",
    "  \n",
    "### inputs=[11.8,-2.6,3.2, -5.0]  (a vector)\n",
    "\n",
    "### weights = [[0.3,2,0.6, -1.2],[0.1,-2,3.6, 2.6],[0.7,0.1,1.6, -3.2]] (a matrix of vectors)\n",
    "\n",
    "### biases=[2,0.2 ,3] (a vector)\n",
    "\n",
    "\n",
    "# Our Goal is :- Vector * Matrix + Vector\n",
    "\n",
    "## Done using *Dot Product*\n",
    "\n",
    "# The Dot Product :-\n",
    "\n",
    "### Sum of multiplication of corresponding elements of the two vectors\n",
    "\n",
    "## Consider,  \n",
    "\n",
    "### a = [1, 2, 3]\n",
    "### b = [2, 3, 4]\n",
    "\n",
    "## dot_prod = a[0] * b[0] + a[1] * b[1] +a[2] * b[2] \n",
    "\n",
    "## dot_prod =  a Scalar Single value (e.g a . b = 20)"
   ]
  },
  {
   "cell_type": "markdown",
   "metadata": {},
   "source": [
    "# Good understanding of how dot products and Matrix products work, will help in better understanding of adv deep learning concepts when we do the same in batches, etc."
   ]
  },
  {
   "cell_type": "markdown",
   "metadata": {},
   "source": [
    "# ----------------------------------------------------------------------------\n",
    "# Implementing dot product in our code \n",
    "\n",
    "\n",
    "## 1. For single Neuron"
   ]
  },
  {
   "cell_type": "code",
   "execution_count": 4,
   "metadata": {},
   "outputs": [
    {
     "name": "stdout",
     "output_type": "stream",
     "text": [
      "The output of the this neuron is : 7.46\n"
     ]
    }
   ],
   "source": [
    "import numpy as np\n",
    "\n",
    "inputs = [11.8,-2.6,3.2, -5.0]  \n",
    "weights = [0.3,2,0.6, -1.2]\n",
    "bias = 1.2\n",
    "\n",
    "output = np.dot(inputs,weights) + bias    \n",
    "## np.dot(weights,inputs) dont matter here as both r 1d vectors \n",
    "## but this will matter when dealing with more dimentional arrays\n",
    "\n",
    "print(\"The output of the this neuron is :\", output)    \n"
   ]
  },
  {
   "cell_type": "markdown",
   "metadata": {},
   "source": [
    "## 2. For Layer/Set of Neurons\n",
    "\n",
    "#### EVOKING AN ERROR INTENTIONALLY !!!\n",
    "\n",
    "#### TO understand diff btw np.dot(input,weights) and np.dot(weights, inputs)"
   ]
  },
  {
   "cell_type": "code",
   "execution_count": 12,
   "metadata": {},
   "outputs": [
    {
     "ename": "ValueError",
     "evalue": "shapes (4,) and (3,4) not aligned: 4 (dim 0) != 3 (dim 0)",
     "output_type": "error",
     "traceback": [
      "\u001b[1;31m---------------------------------------------------------------------------\u001b[0m",
      "\u001b[1;31mValueError\u001b[0m                                Traceback (most recent call last)",
      "\u001b[1;32m<ipython-input-12-163650e022ee>\u001b[0m in \u001b[0;36m<module>\u001b[1;34m\u001b[0m\n\u001b[0;32m      4\u001b[0m \u001b[0mbiases\u001b[0m\u001b[1;33m=\u001b[0m\u001b[1;33m[\u001b[0m\u001b[1;36m2\u001b[0m\u001b[1;33m,\u001b[0m\u001b[1;36m0.2\u001b[0m \u001b[1;33m,\u001b[0m\u001b[1;36m3\u001b[0m\u001b[1;33m]\u001b[0m\u001b[1;33m\u001b[0m\u001b[1;33m\u001b[0m\u001b[0m\n\u001b[0;32m      5\u001b[0m \u001b[1;33m\u001b[0m\u001b[0m\n\u001b[1;32m----> 6\u001b[1;33m \u001b[0moutput\u001b[0m \u001b[1;33m=\u001b[0m \u001b[0mnp\u001b[0m\u001b[1;33m.\u001b[0m\u001b[0mdot\u001b[0m\u001b[1;33m(\u001b[0m\u001b[0minputs\u001b[0m\u001b[1;33m,\u001b[0m\u001b[0mweights\u001b[0m\u001b[1;33m)\u001b[0m \u001b[1;33m+\u001b[0m \u001b[0mbias\u001b[0m\u001b[1;33m\u001b[0m\u001b[1;33m\u001b[0m\u001b[0m\n\u001b[0m\u001b[0;32m      7\u001b[0m \u001b[0mprint\u001b[0m\u001b[1;33m(\u001b[0m\u001b[1;34m\"The output of the this neuron is :\"\u001b[0m\u001b[1;33m,\u001b[0m \u001b[0moutput\u001b[0m\u001b[1;33m)\u001b[0m\u001b[1;33m\u001b[0m\u001b[1;33m\u001b[0m\u001b[0m\n",
      "\u001b[1;32m<__array_function__ internals>\u001b[0m in \u001b[0;36mdot\u001b[1;34m(*args, **kwargs)\u001b[0m\n",
      "\u001b[1;31mValueError\u001b[0m: shapes (4,) and (3,4) not aligned: 4 (dim 0) != 3 (dim 0)"
     ]
    }
   ],
   "source": [
    "inputs=[11.8,-2.6,3.2, -5.0]  \n",
    "\n",
    "weights = [[0.3,2,0.6, -1.2],[0.1,-2,3.6, 2.6],[0.7,0.1,1.6, -3.2]]\n",
    "biases=[2,0.2 ,3]\n",
    "\n",
    "output = np.dot(inputs,weights) + biases   \n",
    "print(\"The output of the this neuron is :\", output)    "
   ]
  },
  {
   "cell_type": "markdown",
   "metadata": {},
   "source": [
    "### The np.dot(x,y) = 1st argument passed here is how the return is going to be indexed\n",
    "### As we have three sets of weights, hence, we are modelling three neurons in One layer \n",
    "### So our return's index must be according to the weights Matrix  "
   ]
  },
  {
   "cell_type": "code",
   "execution_count": 10,
   "metadata": {},
   "outputs": [
    {
     "name": "stdout",
     "output_type": "stream",
     "text": [
      "The output of the this neuron is : [ 7.46  6.1  30.32]\n"
     ]
    }
   ],
   "source": [
    "inputs=[11.8,-2.6,3.2, -5.0]  \n",
    "\n",
    "weights = [[0.3,2,0.6, -1.2],[0.1,-2,3.6, 2.6],[0.7,0.1,1.6, -3.2]]\n",
    "biases=[2,0.2 ,3]\n",
    "\n",
    "output = np.dot(weights,inputs) + biases   \n",
    "print(\"The output of the this neuron is :\", output)    \n",
    "\n",
    "## All works fine"
   ]
  },
  {
   "cell_type": "markdown",
   "metadata": {},
   "source": [
    "# Doing Baby steps at a time . . ."
   ]
  }
 ],
 "metadata": {
  "kernelspec": {
   "display_name": "Python 3",
   "language": "python",
   "name": "python3"
  },
  "language_info": {
   "codemirror_mode": {
    "name": "ipython",
    "version": 3
   },
   "file_extension": ".py",
   "mimetype": "text/x-python",
   "name": "python",
   "nbconvert_exporter": "python",
   "pygments_lexer": "ipython3",
   "version": "3.8.3"
  }
 },
 "nbformat": 4,
 "nbformat_minor": 4
}
