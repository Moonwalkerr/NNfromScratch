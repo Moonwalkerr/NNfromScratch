{
 "cells": [
  {
   "cell_type": "markdown",
   "metadata": {},
   "source": [
    "# Coding a Neuron From Scratch "
   ]
  },
  {
   "cell_type": "code",
   "execution_count": 10,
   "metadata": {},
   "outputs": [],
   "source": [
    "inputs=[1.2,2.6,2.1]  "
   ]
  },
  {
   "cell_type": "code",
   "execution_count": 2,
   "metadata": {},
   "outputs": [],
   "source": [
    "weights = [0.3,1.1,0.5]"
   ]
  },
  {
   "cell_type": "code",
   "execution_count": 9,
   "metadata": {},
   "outputs": [],
   "source": [
    "bias=1.3\n"
   ]
  },
  {
   "cell_type": "markdown",
   "metadata": {},
   "source": [
    "## Why only one bias????\n",
    "\n",
    "\n",
    "#### This is because we have 3 inputs hence 3 weights for each \n",
    "\n",
    "#### But those are input into One Single Neuron, So 1 bias it is\n",
    "####  Bias Per Neuron\n"
   ]
  },
  {
   "cell_type": "markdown",
   "metadata": {},
   "source": [
    "\n",
    "\n",
    "\n",
    "# Now\n",
    "### The First step for a neuron is to add up all the input times the weight + bias\n"
   ]
  },
  {
   "cell_type": "code",
   "execution_count": 8,
   "metadata": {},
   "outputs": [],
   "source": [
    "\n",
    "output= inputs[0]*weights[0]  + inputs[1]*weights[1] + inputs[2]*weights[2]  + bias"
   ]
  },
  {
   "cell_type": "code",
   "execution_count": 6,
   "metadata": {},
   "outputs": [
    {
     "name": "stdout",
     "output_type": "stream",
     "text": [
      "5.57\n"
     ]
    }
   ],
   "source": [
    "print(output)"
   ]
  },
  {
   "cell_type": "markdown",
   "metadata": {},
   "source": [
    "# What is an Input Layer?\n",
    "## Input layer is just a vector of whatever values we have\n",
    "### (e.g) Sensory Data from temp, heat, humidity sensors.\n",
    "\n",
    "#### Likewise input to a neuron can be from true input values or can also be outputs from neurons themselves from another set of layers (Hidden Layers)"
   ]
  },
  {
   "cell_type": "code",
   "execution_count": 11,
   "metadata": {},
   "outputs": [
    {
     "data": {
      "text/plain": [
       "8.760000000000002"
      ]
     },
     "execution_count": 11,
     "metadata": {},
     "output_type": "execute_result"
    }
   ],
   "source": [
    "# adding one more input than former example above\n",
    "# here we r just assuming this input vector is just an output from a \n",
    "# hidden layer given to output neuron\n",
    "\n",
    "inputs=[1.2,2.6,2, 5]  \n",
    "weights = [0.3,2,0.6, 1.2]\n",
    "\n",
    "bias=2\n",
    "\n",
    "\n",
    "# here we are just again modelling a single neuron,\n",
    "#disrespect of whatever or wherever input comes from\n",
    "\n",
    "output= inputs[0]*weights[0]  + inputs[1]*weights[1] + inputs[2]*weights[2]  + bias\n",
    "\n",
    "output"
   ]
  },
  {
   "cell_type": "markdown",
   "metadata": {},
   "source": [
    "#### Now that we have learnt modelling, single neuron with 3 ,4 or more inputs\n",
    "\n",
    "# Now what if we have to model 3 Neurons with 4 Diff inputs?\n",
    "\n",
    "#### (example of output layer)"
   ]
  },
  {
   "cell_type": "code",
   "execution_count": 12,
   "metadata": {},
   "outputs": [],
   "source": [
    "# For 3 diff sets of neurons, we will need 3 different weight sets\n",
    "# 3 diff neurons, 3 diff biases per each\n",
    "\n",
    "inputs1=[11.8,-2.6,3.2, -5.0]  \n",
    "weights1 = [0.3,2,0.6, -1.2]\n",
    "bias1=2\n",
    "\n",
    "\n",
    "inputs2=[0.2,-1.6,-91.2, 31]  \n",
    "weights2 = [0.1,-2,3.6, 2.6]\n",
    "bias2=0.2\n",
    "\n",
    "\n",
    "inputs3=[-1,-2.2,13, -24.1]  \n",
    "weights3 = [0.7,0.1,1.6, -3.2]\n",
    "bias3=3\n",
    "\n",
    "\n"
   ]
  },
  {
   "cell_type": "code",
   "execution_count": 14,
   "metadata": {},
   "outputs": [
    {
     "data": {
      "text/plain": [
       "[8.26, -242.49999999999994, 99.0]"
      ]
     },
     "execution_count": 14,
     "metadata": {},
     "output_type": "execute_result"
    }
   ],
   "source": [
    "# output of 3 diff neurons (vector)\n",
    "\n",
    "output= [inputs1[0]*weights1[0]  + inputs1[1]*weights1[1] + inputs1[2]*weights1[2] + inputs1[3]*weights1[3] + bias,\n",
    "        inputs2[0]*weights2[0]  + inputs2[1]*weights2[1] + inputs2[2]*weights2[2] + inputs2[3]*weights2[3]  + bias,\n",
    "        inputs3[0]*weights3[0]  + inputs3[1]*weights3[1] + inputs3[2]*weights3[2] + inputs3[3]*weights3[3]  + bias]\n",
    "output"
   ]
  },
  {
   "cell_type": "code",
   "execution_count": null,
   "metadata": {},
   "outputs": [],
   "source": [
    "     "
   ]
  }
 ],
 "metadata": {
  "kernelspec": {
   "display_name": "Python 3",
   "language": "python",
   "name": "python3"
  },
  "language_info": {
   "codemirror_mode": {
    "name": "ipython",
    "version": 3
   },
   "file_extension": ".py",
   "mimetype": "text/x-python",
   "name": "python",
   "nbconvert_exporter": "python",
   "pygments_lexer": "ipython3",
   "version": "3.8.3"
  }
 },
 "nbformat": 4,
 "nbformat_minor": 4
}
