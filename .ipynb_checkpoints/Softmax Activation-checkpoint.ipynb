{
 "cells": [
  {
   "cell_type": "markdown",
   "metadata": {},
   "source": [
    "# This notebook explains the Softmax Activation Function in detail\n",
    "\n",
    "\n",
    "\n",
    "## Now first question after learning multiple diff activation functions like Sigmoid and ReLU, why another activation function ?\n",
    "\n",
    "\n",
    "### Imagine these are our output values from a layer :-\n",
    "```sh\n",
    "layer_outputs = [4.8, 1.21, 2.385]\n",
    "```\n",
    "### Now what do we do with these ?\n",
    "\n",
    "### If we are only predicting, then we would consider , whichever is the largest value from the layer_outputs is our Prediction. Here layer_outputs[0] = 4.8, is our prediction\n",
    "\n",
    "\n",
    "## We also have to remeber we are trying to train our Neural Networks as well along with the predicting values.\n",
    "\n",
    "### We ll learn in upcoming notebooks on training NNs\n",
    "\n",
    "### But First Step in training the model is to determine *how wrong is our model ?* \n",
    "\n",
    "## Which one of these is more correct ?\n",
    "```sh\n",
    "layer_outputs = [4.8, 1.21, 2.385] \n",
    "(Most People will consider this one as this has relatively larger neuron output at index 0) \n",
    "layer_outputs = [4.8, 4.79, 4.25]\n",
    "```\n",
    "### Accuracy Wise, they are both identical (coz both have 4.8 as prediction)\n",
    "\n",
    "### First step to measure how wrong the output is to compare them relatively to other neurons. This can't be done using ReLU as ReLU doesn't provides per neuron basis comparisions of outputs\n",
    "\n",
    "### Next problem is these both are unbouned, so relatively closeness can vary btw both samples, and there r lots of issues with no solid way to determine how wrong our model is.\n",
    "\n",
    "## This is why we need some new activation function :- *Softmax Activation Function*\n",
    "\n",
    "### Goal :- Let's say we need to classify cats & dogs, we have 2 neurons at output layer. So our goal would be to get the outputs from the 2 neurons in the way that if the input is a cat, first neuron shows 0.80 - 0.90 or 1.0 (upto 100 % confidence score)  and second neuron outputs 0.08, 0.12, etc like values (i.e low confidence score for it being a dog)\n",
    "\n",
    "\n",
    "\n",
    "### This will help us to determine how wrong / right our model is."
   ]
  },
  {
   "cell_type": "code",
   "execution_count": null,
   "metadata": {},
   "outputs": [],
   "source": [
    "\n",
    "\n"
   ]
  }
 ],
 "metadata": {
  "kernelspec": {
   "display_name": "Python 3",
   "language": "python",
   "name": "python3"
  },
  "language_info": {
   "codemirror_mode": {
    "name": "ipython",
    "version": 3
   },
   "file_extension": ".py",
   "mimetype": "text/x-python",
   "name": "python",
   "nbconvert_exporter": "python",
   "pygments_lexer": "ipython3",
   "version": "3.8.3"
  }
 },
 "nbformat": 4,
 "nbformat_minor": 4
}
