{
 "cells": [
  {
   "cell_type": "markdown",
   "metadata": {},
   "source": [
    "# Batches\n",
    "\n",
    "\n",
    "### Batches give more dynamic capability to run multiple calculations for matrix multiplications\n",
    "\n",
    "\n",
    "## Another benefit of working with batches is because they helps with generalization:\n",
    "\n",
    "#### Single Sample:-\n",
    "#### inputs = [1, 2, 3, 4]  (e.g these are 4 diff values/features  from a unique sensor at a specific time)\n",
    "#### Now we can convert them to be a Batch of samples to have many readings of sensors at specific point in time. \n",
    "\n",
    "### We can provide multiple samples at a time to the machine rather than providing one by one each time\n",
    "\n",
    "\n",
    "### Batch size = no of samples at a time fit to the neuron\n",
    "\n",
    "\n"
   ]
  },
  {
   "cell_type": "code",
   "execution_count": 3,
   "metadata": {},
   "outputs": [
    {
     "name": "stdout",
     "output_type": "stream",
     "text": [
      "The output of the this neuron is : [ 8.26  5.1  32.12]\n"
     ]
    }
   ],
   "source": [
    "import numpy as np\n",
    "\n",
    "inputs=[11.8,-2.6,3.2, -5.0]  # single sample\n",
    "\n",
    "weights = [[0.3,2,0.6, -1.2],[0.1,-2,3.6, 2.6],[0.7,0.1,1.6, -3.2]]\n",
    "biases=[2,0.2 ,3]\n",
    "\n",
    "output = np.dot(weights,inputs) + biases    \n",
    "print(\"The output of the this neuron is :\", output)    \n"
   ]
  },
  {
   "cell_type": "markdown",
   "metadata": {},
   "source": [
    "## If batch_size = 1 (1 sample at a time)\n",
    "## Total Datapoints/samples = 512\n",
    "\n",
    "### If we as a single neuron to attempt to fit one sample at a time and find a best fit line from the operation\n",
    "### It will be really a hard time for the neuron to do the same\n",
    "\n",
    "\n",
    "### Now, If batch_size = 4 (4 samples at a time)\n",
    "### Asked neuron to do same operation but now with newer batch_size,\n",
    "\n",
    "## The Result will be more efficient by increasing the batch_size here\n",
    "### efficiency of best fit line--> batch_size--> 1-- 4 -- 16 --32 . . .\n"
   ]
  },
  {
   "cell_type": "markdown",
   "metadata": {},
   "source": [
    "# Now people wonder why not all samples at a time ?\n",
    "\n",
    "# The Problem with giving the neuron All the samples at a time will lead to Overfitting\n",
    "\n",
    "## The neural network / neuron will try to fit as good as possible all the samples at once\n",
    "## This will actually lead to hurt our generalization, as it has knowledge of all the samples \n",
    "\n",
    "## Means, it will do pretty well to fit in with in-sample data, but it will do pretty bad, in out of sample data\n",
    "\n",
    "\n",
    "# Generally batch size is btw 16-32 or 64 , rarely 128 (as per use cases)\n",
    "\n",
    "## batch size = 32 is commonly used "
   ]
  },
  {
   "cell_type": "code",
   "execution_count": 5,
   "metadata": {},
   "outputs": [
    {
     "ename": "ValueError",
     "evalue": "shapes (3,4) and (3,4) not aligned: 4 (dim 1) != 3 (dim 0)",
     "output_type": "error",
     "traceback": [
      "\u001b[1;31m---------------------------------------------------------------------------\u001b[0m",
      "\u001b[1;31mValueError\u001b[0m                                Traceback (most recent call last)",
      "\u001b[1;32m<ipython-input-5-324a1e159c2d>\u001b[0m in \u001b[0;36m<module>\u001b[1;34m\u001b[0m\n\u001b[0;32m      9\u001b[0m \u001b[0mbiases\u001b[0m\u001b[1;33m=\u001b[0m\u001b[1;33m[\u001b[0m\u001b[1;36m2\u001b[0m\u001b[1;33m,\u001b[0m\u001b[1;36m0.2\u001b[0m \u001b[1;33m,\u001b[0m\u001b[1;36m3\u001b[0m\u001b[1;33m]\u001b[0m\u001b[1;33m\u001b[0m\u001b[1;33m\u001b[0m\u001b[0m\n\u001b[0;32m     10\u001b[0m \u001b[1;33m\u001b[0m\u001b[0m\n\u001b[1;32m---> 11\u001b[1;33m \u001b[0moutput\u001b[0m \u001b[1;33m=\u001b[0m \u001b[0mnp\u001b[0m\u001b[1;33m.\u001b[0m\u001b[0mdot\u001b[0m\u001b[1;33m(\u001b[0m\u001b[0mweights\u001b[0m\u001b[1;33m,\u001b[0m\u001b[0minputs\u001b[0m\u001b[1;33m)\u001b[0m \u001b[1;33m+\u001b[0m \u001b[0mbiases\u001b[0m    \u001b[1;31m# size of both matrices must be same\u001b[0m\u001b[1;33m\u001b[0m\u001b[1;33m\u001b[0m\u001b[0m\n\u001b[0m\u001b[0;32m     12\u001b[0m \u001b[0mprint\u001b[0m\u001b[1;33m(\u001b[0m\u001b[1;34m\"The output of the this neuron is :\"\u001b[0m\u001b[1;33m,\u001b[0m \u001b[0moutput\u001b[0m\u001b[1;33m)\u001b[0m\u001b[1;33m\u001b[0m\u001b[1;33m\u001b[0m\u001b[0m\n",
      "\u001b[1;32m<__array_function__ internals>\u001b[0m in \u001b[0;36mdot\u001b[1;34m(*args, **kwargs)\u001b[0m\n",
      "\u001b[1;31mValueError\u001b[0m: shapes (3,4) and (3,4) not aligned: 4 (dim 1) != 3 (dim 0)"
     ]
    }
   ],
   "source": [
    "## Lets convert our single sampled input to a batch of inputs\n",
    "\n",
    "# intentionally evoking a shape error for better understanding\n",
    "\n",
    "inputs=[[11.8,-2.6,3.2, -5.0],\n",
    "       [1.2,4.8,5.6,-6.1],\n",
    "       [2.0, 5.0, -1.5, 0.6]]  # a batch of samples  and now a matrix not 1d vector as befor\n",
    "\n",
    "weights = [[0.3,2,0.6, -1.2],[0.1,-2,3.6, 2.6],[0.7,0.1,1.6, -3.2]] # also a matrix \n",
    "biases=[2,0.2 ,3]\n",
    "\n",
    "output = np.dot(inputs,weights) + biases    \n",
    "print(\"The output of the this neuron is :\", output)    "
   ]
  },
  {
   "cell_type": "markdown",
   "metadata": {},
   "source": [
    "# Troubleshooting this error . . .\n",
    "\n",
    "# Recall the Matrix Multiplication opeations of two matrices \n",
    "\n",
    "## matrix(A) * matrix(B) = matrix(C)\n",
    "## The first row of the matrix A's dot product will be done with each column vectors of the matrix B and all collective output will be given to the Product/Output matrix C's 1st row\n",
    "\n",
    "## Here in above code, inputs[0]'s (row vecotr) has 4 elements but weights[column1] (column vector) has only 3 elements\n",
    "\n",
    "# So what do we do !!! ?\n"
   ]
  },
  {
   "cell_type": "markdown",
   "metadata": {},
   "source": [
    "## Our goal = Input * weights + bias\n",
    "\n",
    "### Looking at weights matrix and inputs matrix, we can conclude:-\n",
    "\n",
    "## We need to switch the Rows and Columns of Weights Matrix\n",
    "\n",
    "## Solution :- Transpose The Array/ Matrix"
   ]
  },
  {
   "cell_type": "code",
   "execution_count": 34,
   "metadata": {},
   "outputs": [
    {
     "name": "stdout",
     "output_type": "stream",
     "text": [
      "The output of the this layer is :\n",
      "\n",
      " [[  8.26   5.1   32.12]\n",
      " [ 22.64  -4.98  32.8 ]\n",
      " [ 10.98 -13.44   0.58]]\n"
     ]
    }
   ],
   "source": [
    "inputs=[[11.8,-2.6,3.2, -5.0],\n",
    "       [1.2,4.8,5.6,-6.1],\n",
    "       [2.0, 5.0, -1.5, 0.6]]  \n",
    "weights = [[0.3,2,0.6, -1.2],[0.1,-2,3.6, 2.6],[0.7,0.1,1.6, -3.2]]  \n",
    "biases=[2,0.2 ,3]\n",
    "\n",
    "output = np.dot(inputs,np.array(weights).T) + biases    # applying transpose \n",
    "print(\"The output of the this layer is :\\n\\n\", output)    "
   ]
  },
  {
   "cell_type": "markdown",
   "metadata": {},
   "source": [
    "# Adding Another Layer\n",
    "\n",
    "## To do this, we need another set of weights and biases"
   ]
  },
  {
   "cell_type": "code",
   "execution_count": 35,
   "metadata": {},
   "outputs": [
    {
     "name": "stdout",
     "output_type": "stream",
     "text": [
      "The output of Layer 2 is :\n",
      "\n",
      " [[176.862 -25.656 -56.388]\n",
      " [151.89  -87.288  -2.496]\n",
      " [-37.768 -72.658  38.512]]\n"
     ]
    }
   ],
   "source": [
    "inputs=[[11.8,-2.6,3.2, -5.0],\n",
    "       [1.2,4.8,5.6,-6.1],\n",
    "       [2.0, 5.0, -1.5, 0.6]]  \n",
    "weights = [[0.3,2,0.6, -1.2],[0.1,-2,3.6, 2.6],[0.7,0.1,1.6, -3.2]]  \n",
    "biases=[2,0.2 ,3]\n",
    "\n",
    "weights2 = [[0.2,-1,4.6],[3.1,4.6,1],[5,-1.3, -3.2]]   \n",
    "# notice size of rows and columns reduced by 1  as the layer1 input is the same\n",
    "biases2 = [-1.2,0.9 ,3.3]\n",
    "\n",
    "layer1_outputs = np.dot(inputs,np.array(weights).T) + biases    \n",
    "\n",
    "# outputs of layer 1 becomes the inputs of layer 2\n",
    "\n",
    "layer2_outputs = np.dot(layer1_outputs,np.array(weights2)) + biases2    \n",
    "\n",
    "print(\"The output of Layer 2 is :\\n\\n\", layer2_outputs)\n"
   ]
  },
  {
   "cell_type": "markdown",
   "metadata": {},
   "source": [
    "# Now , looking at the code, we can notice, adding more layers and stuffs further will going to be hectic in the code in terms of better understandings and managements"
   ]
  },
  {
   "cell_type": "markdown",
   "metadata": {},
   "source": [
    "# Need of Class and Object is required now  ( OOPs)\n",
    "\n",
    "## Performed in next program file of Layers and Object"
   ]
  },
  {
   "cell_type": "code",
   "execution_count": null,
   "metadata": {},
   "outputs": [],
   "source": []
  }
 ],
 "metadata": {
  "kernelspec": {
   "display_name": "Python 3",
   "language": "python",
   "name": "python3"
  },
  "language_info": {
   "codemirror_mode": {
    "name": "ipython",
    "version": 3
   },
   "file_extension": ".py",
   "mimetype": "text/x-python",
   "name": "python",
   "nbconvert_exporter": "python",
   "pygments_lexer": "ipython3",
   "version": "3.8.3"
  }
 },
 "nbformat": 4,
 "nbformat_minor": 4
}
